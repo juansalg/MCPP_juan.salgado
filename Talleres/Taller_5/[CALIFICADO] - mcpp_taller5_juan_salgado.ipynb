{
 "cells": [
  {
   "cell_type": "markdown",
   "metadata": {},
   "source": [
    "# Taller 5\n",
    "Métodos Computacionales para Políticas Públicas - URosario\n",
    "\n",
    "**Entrega: viernes 6-sep-2019 11:59 PM**"
   ]
  },
  {
   "cell_type": "markdown",
   "metadata": {},
   "source": [
    "<div class=\"alert alert-success\">\n",
    "    \n",
    "**Juan Camilo Salgado Ramírez** <br><br>\n",
    "juanca.salgado@urosario.edu.co\n",
    "</div>"
   ]
  },
  {
   "cell_type": "markdown",
   "metadata": {},
   "source": [
    "## Instrucciones:\n",
    "- Guarde una copia de este *Jupyter Notebook* en su computador, idealmente en una carpeta destinada al material del curso.\n",
    "- Modifique el nombre del archivo del *notebook*, agregando al final un guión inferior y su nombre y apellido, separados estos últimos por otro guión inferior. Por ejemplo, mi *notebook* se llamaría: mcpp_taller5_santiago_matallana\n",
    "- Marque el *notebook* con su nombre y e-mail en el bloque verde arriba. Reemplace el texto \"[Su nombre acá]\" con su nombre y apellido. Similar para su e-mail.\n",
    "- Desarrolle la totalidad del taller sobre este *notebook*, insertando las celdas que sea necesario debajo de cada pregunta. Haga buen uso de las celdas para código y de las celdas tipo *markdown* según el caso.\n",
    "- Recuerde salvar periódicamente sus avances.\n",
    "- Cuando termine el taller:\n",
    "    1. Descárguelo en PDF. Si tiene algún problema con la conversión, descárguelo en HTML.\n",
    "    2. Suba los dos archivos (.pdf -o .html- y .ipynb) a su repositorio en GitHub antes de la fecha y hora límites.\n",
    "\n",
    "(Todos los ejercicios tienen el mismo valor.)"
   ]
  },
  {
   "cell_type": "markdown",
   "metadata": {},
   "source": [
    "---"
   ]
  },
  {
   "cell_type": "markdown",
   "metadata": {},
   "source": [
    "### 1\n",
    "Escríba una función que ordene (de forma ascedente y descendente) un diccionario según sus valores."
   ]
  },
  {
   "cell_type": "code",
   "execution_count": 1,
   "metadata": {},
   "outputs": [
    {
     "name": "stdout",
     "output_type": "stream",
     "text": [
      "{2: 'b', 4: 'd', 0: 'aa', 1: 'a', 3: 'c'}\n",
      "[(1, 'a'), (0, 'aa'), (2, 'b'), (3, 'c'), (4, 'd')]\n",
      "[(4, 'd'), (3, 'c'), (2, 'b'), (0, 'aa'), (1, 'a')]\n"
     ]
    }
   ],
   "source": [
    "dic = {2:'b',  4:'d', 0: 'aa',1:'a', 3:'c'}\n",
    "def order(dic):\n",
    "    ## Ascendente\n",
    "    as_dic = list(dic.items())\n",
    "    for i in range(len(as_dic)-1):\n",
    "        for j in range(i, len(as_dic)):\n",
    "            if as_dic[i][1] > as_dic[j][1]:\n",
    "                aux = as_dic[j]\n",
    "                as_dic[j] = as_dic[i]\n",
    "                as_dic[i] = aux\n",
    "    ## Descendente\n",
    "    des_dic = list(dic.items())\n",
    "    for i in range(len(des_dic)-1):\n",
    "        for j in range(i, len(des_dic)):\n",
    "            if des_dic[i][1] < des_dic[j][1]:\n",
    "                aux = des_dic[j]\n",
    "                des_dic[j] = des_dic[i]\n",
    "                des_dic[i] = aux\n",
    "    print(as_dic)\n",
    "    print(des_dic)\n",
    "\n",
    "print(dic)\n",
    "order(dic)\n"
   ]
  },
  {
   "cell_type": "markdown",
   "metadata": {},
   "source": [
    "### 2\n",
    "Escriba una función que agregue una llave a un diccionario."
   ]
  },
  {
   "cell_type": "code",
   "execution_count": 2,
   "metadata": {},
   "outputs": [
    {
     "name": "stdout",
     "output_type": "stream",
     "text": [
      "{2: 'b', 4: 'd', 0: 'aa', 1: 'a', 3: 'c'}\n",
      "{2: 'b', 4: 'd', 0: 'aa', 1: 'a', 3: 'c', 'nueva llave': ''}\n"
     ]
    }
   ],
   "source": [
    "def agregar(dic, llave):\n",
    "    dic[llave] = \"\"\n",
    "\n",
    "print(dic)\n",
    "agregar(dic, 'nueva llave')\n",
    "print(dic)"
   ]
  },
  {
   "cell_type": "markdown",
   "metadata": {},
   "source": [
    "### 3\n",
    "Escriba un programa que concatene los siguientes tres diccionarios en uno nuevo:"
   ]
  },
  {
   "cell_type": "code",
   "execution_count": 3,
   "metadata": {},
   "outputs": [],
   "source": [
    "dicc1 = {1:10, 2:20} \n",
    "dicc2 = {3:30, 4:40} \n",
    "dicc3 = {5:50,6:60}\n",
    "\n",
    "# Resultado esperado: {1: 10, 2: 20, 3: 30, 4: 40, 5: 50, 6: 60}"
   ]
  },
  {
   "cell_type": "code",
   "execution_count": 4,
   "metadata": {},
   "outputs": [
    {
     "name": "stdout",
     "output_type": "stream",
     "text": [
      "{1: 10, 2: 20, 3: 30, 4: 40, 5: 50, 6: 60}\n"
     ]
    }
   ],
   "source": [
    "def agregar_dic(dic_ini, dic_agr):\n",
    "    for k, v in dic_agr.items():\n",
    "        dic_ini[k] = v\n",
    "\n",
    "dic_nuevo = {}        \n",
    "agregar_dic(dic_nuevo, dicc1)\n",
    "agregar_dic(dic_nuevo, dicc2)\n",
    "agregar_dic(dic_nuevo, dicc3)\n",
    "    \n",
    "print(dic_nuevo)"
   ]
  },
  {
   "cell_type": "markdown",
   "metadata": {},
   "source": [
    "### 4\n",
    "Escriba una función que verifique si una determinada llave existe o no en un diccionario."
   ]
  },
  {
   "cell_type": "code",
   "execution_count": 5,
   "metadata": {},
   "outputs": [
    {
     "name": "stdout",
     "output_type": "stream",
     "text": [
      "dict_keys(['a', 'b', 'c'])\n",
      "Llave 2 en diccionario: False\n"
     ]
    }
   ],
   "source": [
    "def existe_llave(dic, llave):\n",
    "    return llave in dic\n",
    "\n",
    "dic = {'a': 1, 'b': 2, 'c': 3}\n",
    "print(dic.keys())\n",
    "print('Llave 2 en diccionario:', existe_llave(dic, 2))"
   ]
  },
  {
   "cell_type": "markdown",
   "metadata": {},
   "source": [
    "### 5\n",
    "Escriba una función que imprima todos los pares (llave, valor) de un diccionario."
   ]
  },
  {
   "cell_type": "code",
   "execution_count": 6,
   "metadata": {},
   "outputs": [
    {
     "name": "stdout",
     "output_type": "stream",
     "text": [
      "{1: 2, 3: 4, 5: 6}\n",
      "Llave: 1 Valor: 2\n",
      "Llave: 3 Valor: 4\n",
      "Llave: 5 Valor: 6\n"
     ]
    }
   ],
   "source": [
    "def imprimir_vals(dic):\n",
    "    for k, v in dic.items():\n",
    "        print('Llave:', k, 'Valor:', v)\n",
    "\n",
    "dic = {1:2, 3:4, 5:6}\n",
    "print(dic)\n",
    "imprimir_vals(dic)"
   ]
  },
  {
   "cell_type": "markdown",
   "metadata": {},
   "source": [
    "### 6\n",
    "Escriba una función que genere un diccionario con los números enteros entre 1 y n en la forma (x: x**2)."
   ]
  },
  {
   "cell_type": "code",
   "execution_count": 7,
   "metadata": {},
   "outputs": [
    {
     "name": "stdout",
     "output_type": "stream",
     "text": [
      "n es: 5\n"
     ]
    },
    {
     "data": {
      "text/plain": [
       "{1: 1, 2: 4, 3: 9, 4: 16, 5: 25}"
      ]
     },
     "execution_count": 7,
     "metadata": {},
     "output_type": "execute_result"
    }
   ],
   "source": [
    "def gen_num(n):\n",
    "    dic = {}\n",
    "    for i in range(1, n+1):\n",
    "        dic[i] = i**2\n",
    "    return dic\n",
    "\n",
    "n = 5\n",
    "print('n es:', n)\n",
    "gen_num(n)"
   ]
  },
  {
   "cell_type": "markdown",
   "metadata": {},
   "source": [
    "### 7\n",
    "Escriba una función que sume todas las llaves de un diccionario. (Asuma que son números.)"
   ]
  },
  {
   "cell_type": "code",
   "execution_count": 8,
   "metadata": {},
   "outputs": [
    {
     "name": "stdout",
     "output_type": "stream",
     "text": [
      "dict_keys([1, 2, 7])\n",
      "Suma llaves: 10\n"
     ]
    }
   ],
   "source": [
    "def sum_llaves(dic):\n",
    "    suma = 0\n",
    "    for k in dic:\n",
    "        suma = suma + k\n",
    "    return suma\n",
    "\n",
    "c = {1 : 2, 2: 3, 7: 4}\n",
    "print(c.keys())\n",
    "print('Suma llaves:',sum_llaves(c))"
   ]
  },
  {
   "cell_type": "markdown",
   "metadata": {},
   "source": [
    "### 8\n",
    "Escriba una función que sume todos los valores de un diccionario. (Asuma que son números.)"
   ]
  },
  {
   "cell_type": "code",
   "execution_count": 9,
   "metadata": {},
   "outputs": [
    {
     "name": "stdout",
     "output_type": "stream",
     "text": [
      "dict_values([2, 3, 4])\n",
      "Suma valores: 9\n"
     ]
    }
   ],
   "source": [
    "def sum_vals(dic):\n",
    "    suma = 0\n",
    "    for k in dic:\n",
    "        suma = suma + dic[k]\n",
    "    return suma\n",
    "\n",
    "c = {1 : 2, 2: 3, 7: 4}\n",
    "print(c.values())\n",
    "print('Suma valores:',sum_vals(c))"
   ]
  },
  {
   "cell_type": "markdown",
   "metadata": {},
   "source": [
    "### 9\n",
    "Escriba una función que sume todos los ítems de un diccionario. (Asuma que son números.)"
   ]
  },
  {
   "cell_type": "code",
   "execution_count": 10,
   "metadata": {},
   "outputs": [
    {
     "name": "stdout",
     "output_type": "stream",
     "text": [
      "dict_items([(1, 2), (2, 3), (7, 4)])\n",
      "Suma llaves y valores: 19\n"
     ]
    }
   ],
   "source": [
    "def sum_item(dic):\n",
    "    suma = 0\n",
    "    for k in dic:\n",
    "        suma = suma + k + dic[k]\n",
    "    return suma\n",
    "\n",
    "c = {1 : 2, 2: 3, 7: 4}\n",
    "print(c.items())\n",
    "print('Suma llaves y valores:',sum_item(c))"
   ]
  },
  {
   "cell_type": "markdown",
   "metadata": {},
   "source": [
    "### 10\n",
    "Escriba una función que tome dos listas y las mapee a un diccionario por pares. (El primer elemento de la primera lista es la primera llave del diccionario, el primer elemento de la segunda lista es el valor de la primera llave del diccionario, etc.)"
   ]
  },
  {
   "cell_type": "code",
   "execution_count": 11,
   "metadata": {},
   "outputs": [
    {
     "name": "stdout",
     "output_type": "stream",
     "text": [
      "Lista 1: [1, 2, 3, 4, 5]\n",
      "Lista2: [5, 4, 3, 2, 1]\n"
     ]
    },
    {
     "data": {
      "text/plain": [
       "{1: 5, 2: 4, 3: 3, 4: 2, 5: 1}"
      ]
     },
     "execution_count": 11,
     "metadata": {},
     "output_type": "execute_result"
    }
   ],
   "source": [
    "def dic_creator(list1, list2):\n",
    "    dic = {}\n",
    "    for i in range(0, len(list1)):\n",
    "        dic[list1[i]] = list2[i]\n",
    "    return dic\n",
    "\n",
    "print('Lista 1:', [x for x in range(1,6)])\n",
    "print('Lista2:', [x for x in range(5,0,-1)])\n",
    "dic_creator([x for x in range(1,6)], [x for x in range(5,0,-1)])"
   ]
  },
  {
   "cell_type": "markdown",
   "metadata": {},
   "source": [
    "### 11\n",
    "Escriba una función que elimine una llave de un diccionario."
   ]
  },
  {
   "cell_type": "code",
   "execution_count": 12,
   "metadata": {},
   "outputs": [
    {
     "name": "stdout",
     "output_type": "stream",
     "text": [
      "{5: 5, 4: 5, 3: 5, 2: 5, 1: 5}\n",
      "{5: 5, 4: 5, 3: 5, 2: 5}\n"
     ]
    }
   ],
   "source": [
    "def elim_llave(dic, llave):\n",
    "    if llave in dic:\n",
    "        del dic[llave]\n",
    "\n",
    "dic = {x:5 for x in range(5,0, -1)}\n",
    "print(dic)\n",
    "elim_llave(dic, 1)\n",
    "print(dic)"
   ]
  },
  {
   "cell_type": "markdown",
   "metadata": {},
   "source": [
    "### 12\n",
    "Escriba una función que arroje los valores mínimo y máximo de un diccionario."
   ]
  },
  {
   "cell_type": "code",
   "execution_count": 13,
   "metadata": {},
   "outputs": [
    {
     "name": "stdout",
     "output_type": "stream",
     "text": [
      "{1: 2, 3: 4, 5: 6, 7: 8, 9: 10, 0: 1}\n"
     ]
    },
    {
     "data": {
      "text/plain": [
       "['max: 10', 'min: 1']"
      ]
     },
     "execution_count": 13,
     "metadata": {},
     "output_type": "execute_result"
    }
   ],
   "source": [
    "def min_max(dic):\n",
    "    maxim = -10000\n",
    "    minim = 10000\n",
    "    for k, v in dic.items():\n",
    "        if v > maxim:\n",
    "            maxim = v\n",
    "        if v < minim:\n",
    "            minim = v\n",
    "    return ['max: ' + str(maxim), 'min: ' + str(minim)]\n",
    "\n",
    "dic = {1:2, 3:4, 5:6, 7:8, 9:10, 0:1}\n",
    "print(dic)\n",
    "min_max(dic)"
   ]
  },
  {
   "cell_type": "markdown",
   "metadata": {},
   "source": [
    "### 13"
   ]
  },
  {
   "cell_type": "raw",
   "metadata": {},
   "source": [
    "sentence = \"the quick brown fox jumps over the lazy dog\"\n",
    "words = sentence.split()\n",
    "word_lengths = []\n",
    "for word in words:\n",
    "    if word != \"the\":\n",
    "        word_lengths.append(len(word)) \n",
    " \n",
    "Simplifique el código anterior combinando las líneas 3 a 6 usando list comprehension. Su código final deberá entonces tener tres líneas."
   ]
  },
  {
   "cell_type": "code",
   "execution_count": 14,
   "metadata": {},
   "outputs": [
    {
     "data": {
      "text/plain": [
       "[5, 5, 3, 5, 4, 4, 3]"
      ]
     },
     "execution_count": 14,
     "metadata": {},
     "output_type": "execute_result"
    }
   ],
   "source": [
    "sentence = \"the quick brown fox jumps over the lazy dog\"\n",
    "words = sentence.split()\n",
    "word_lengths = [len(word) for word in words if word != 'the']\n",
    "word_lengths"
   ]
  },
  {
   "cell_type": "markdown",
   "metadata": {},
   "source": [
    "### 14"
   ]
  },
  {
   "cell_type": "markdown",
   "metadata": {},
   "source": [
    "Escriba UNA línea de código que tome la lista <mark>a</mark> y arroje una nueva lista con solo los elementos pares de <mark>a</mark>."
   ]
  },
  {
   "cell_type": "code",
   "execution_count": 15,
   "metadata": {},
   "outputs": [
    {
     "name": "stdout",
     "output_type": "stream",
     "text": [
      "[1, 2, 3, 4, 5, 6]\n",
      "[2, 4, 6]\n"
     ]
    }
   ],
   "source": [
    "a = [x for x in range(1, 7)]\n",
    "pares = [val for val in a if val%2 == 0 and val != 0]\n",
    "print(a)\n",
    "print(pares)"
   ]
  },
  {
   "cell_type": "markdown",
   "metadata": {},
   "source": [
    "### 15"
   ]
  },
  {
   "cell_type": "markdown",
   "metadata": {},
   "source": [
    "Escriba UNA línea de código que tome la lista <mark>a</mark> del ejercicio 14 y multiplique todos sus valores."
   ]
  },
  {
   "cell_type": "code",
   "execution_count": 16,
   "metadata": {},
   "outputs": [
    {
     "name": "stdout",
     "output_type": "stream",
     "text": [
      "[1, 2, 3, 4, 5, 6]\n",
      "720\n"
     ]
    }
   ],
   "source": [
    "from functools import reduce\n",
    "print(a)\n",
    "print(reduce(lambda x,y: x*y,a))"
   ]
  },
  {
   "cell_type": "markdown",
   "metadata": {},
   "source": [
    "### 16"
   ]
  },
  {
   "cell_type": "markdown",
   "metadata": {},
   "source": [
    "Usando \"list comprehension\", cree una lista con las 36 combinaciones de un par de dados, como tuplas: [(1,1), (1,2),...,(6,6)]."
   ]
  },
  {
   "cell_type": "code",
   "execution_count": 17,
   "metadata": {
    "scrolled": true
   },
   "outputs": [
    {
     "name": "stdout",
     "output_type": "stream",
     "text": [
      "Numero de combinaciones: 36\n"
     ]
    },
    {
     "data": {
      "text/plain": [
       "[(1, 1),\n",
       " (1, 2),\n",
       " (1, 3),\n",
       " (1, 4),\n",
       " (1, 5),\n",
       " (1, 6),\n",
       " (2, 1),\n",
       " (2, 2),\n",
       " (2, 3),\n",
       " (2, 4),\n",
       " (2, 5),\n",
       " (2, 6),\n",
       " (3, 1),\n",
       " (3, 2),\n",
       " (3, 3),\n",
       " (3, 4),\n",
       " (3, 5),\n",
       " (3, 6),\n",
       " (4, 1),\n",
       " (4, 2),\n",
       " (4, 3),\n",
       " (4, 4),\n",
       " (4, 5),\n",
       " (4, 6),\n",
       " (5, 1),\n",
       " (5, 2),\n",
       " (5, 3),\n",
       " (5, 4),\n",
       " (5, 5),\n",
       " (5, 6),\n",
       " (6, 1),\n",
       " (6, 2),\n",
       " (6, 3),\n",
       " (6, 4),\n",
       " (6, 5),\n",
       " (6, 6)]"
      ]
     },
     "execution_count": 17,
     "metadata": {},
     "output_type": "execute_result"
    }
   ],
   "source": [
    "combinaciones = [(d1, d2) for d1 in range(1, 7) for d2 in range(1,7)]\n",
    "print('Numero de combinaciones:', len(combinaciones))\n",
    "combinaciones"
   ]
  },
  {
   "cell_type": "markdown",
   "metadata": {},
   "source": [
    "# Nota final 5.0"
   ]
  }
 ],
 "metadata": {
  "anaconda-cloud": {},
  "kernelspec": {
   "display_name": "Python 3",
   "language": "python",
   "name": "python3"
  },
  "language_info": {
   "codemirror_mode": {
    "name": "ipython",
    "version": 3
   },
   "file_extension": ".py",
   "mimetype": "text/x-python",
   "name": "python",
   "nbconvert_exporter": "python",
   "pygments_lexer": "ipython3",
   "version": "3.7.1"
  }
 },
 "nbformat": 4,
 "nbformat_minor": 1
}
