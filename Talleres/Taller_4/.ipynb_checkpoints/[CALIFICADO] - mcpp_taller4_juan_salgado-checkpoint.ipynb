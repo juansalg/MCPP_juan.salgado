{
 "cells": [
  {
   "cell_type": "markdown",
   "metadata": {},
   "source": [
    "# Taller 4\n",
    "Métodos Computacionales para Políticas Públicas - URosario\n",
    "\n",
    "**Entrega: viernes 30-ago-2019 11:59 PM**"
   ]
  },
  {
   "cell_type": "markdown",
   "metadata": {},
   "source": [
    "<div class=\"alert alert-success\">\n",
    "    \n",
    "**Juan Camilo Salgado Ramírez** <br><br>\n",
    "juanca.salgado@urosario.edu.co\n",
    "</div>"
   ]
  },
  {
   "cell_type": "markdown",
   "metadata": {},
   "source": [
    "## Instrucciones:\n",
    "- Guarde una copia de este *Jupyter Notebook* en su computador, idealmente en una carpeta destinada al material del curso.\n",
    "- Modifique el nombre del archivo del *notebook*, agregando al final un guión inferior y su nombre y apellido, separados estos últimos por otro guión inferior. Por ejemplo, mi *notebook* se llamaría: mcpp_taller4_santiago_matallana\n",
    "- Marque el *notebook* con su nombre y e-mail en el bloque verde arriba. Reemplace el texto \"[Su nombre acá]\" con su nombre y apellido. Similar para su e-mail.\n",
    "- Desarrolle la totalidad del taller sobre este *notebook*, insertando las celdas que sea necesario debajo de cada pregunta. Haga buen uso de las celdas para código y de las celdas tipo *markdown* según el caso.\n",
    "- Recuerde salvar periódicamente sus avances.\n",
    "- Cuando termine el taller:\n",
    "    1. Descárguelo en PDF.\n",
    "    2. Suba los dos archivos (.pdf y .ipynb) a su repositorio en GitHub antes de la fecha y hora límites.\n",
    "\n",
    "(Todos los ejercicios tienen el mismo valor.)"
   ]
  },
  {
   "cell_type": "markdown",
   "metadata": {},
   "source": [
    "---"
   ]
  },
  {
   "cell_type": "markdown",
   "metadata": {},
   "source": [
    "## Zelle, Exercises 6.8 (p. 159):\n",
    "\n",
    "- True/False: 1-10\n",
    "- Multiple choice: 2, 3, 6, 7, 10\n",
    "- Programming Exercises: 1, 3, 4, 11, 12, 13"
   ]
  },
  {
   "cell_type": "markdown",
   "metadata": {},
   "source": [
    "### 1) True/False: 1-10"
   ]
  },
  {
   "cell_type": "markdown",
   "metadata": {},
   "source": [
    "1) False <br />\n",
    "2) False <br />\n",
    "3) True <br />\n",
    "4) True: si no retorna explícitamente algo, el return sera none (por lo que si retorna algo) <br />\n",
    "5) False <br />\n",
    "6) False <br />\n",
    "7) False <br />\n",
    "8) True <br />\n",
    "9) True <br />\n",
    "10) False <br />"
   ]
  },
  {
   "cell_type": "markdown",
   "metadata": {},
   "source": [
    "### 2) Multiple choice"
   ]
  },
  {
   "cell_type": "markdown",
   "metadata": {},
   "source": [
    "#### Ex. #2 - A Python function definition begins with:"
   ]
  },
  {
   "cell_type": "markdown",
   "metadata": {},
   "source": [
    "a) def"
   ]
  },
  {
   "cell_type": "markdown",
   "metadata": {},
   "source": [
    "#### Ex. #3 - A function can send output back to the program with a(n):"
   ]
  },
  {
   "cell_type": "markdown",
   "metadata": {},
   "source": [
    "a) return"
   ]
  },
  {
   "cell_type": "markdown",
   "metadata": {},
   "source": [
    "#### Ex. #6 - In Python, actual parameters are passed to function"
   ]
  },
  {
   "cell_type": "markdown",
   "metadata": {},
   "source": [
    "a) by value"
   ]
  },
  {
   "cell_type": "markdown",
   "metadata": {},
   "source": [
    "#### Ex. #7 - Which of the following is not a reason to use functions?"
   ]
  },
  {
   "cell_type": "markdown",
   "metadata": {},
   "source": [
    "d) to demonstrate intellectual superiority"
   ]
  },
  {
   "cell_type": "markdown",
   "metadata": {},
   "source": [
    "#### Ex. 10 - A function can modify the value of an actual parameter only if it’s"
   ]
  },
  {
   "cell_type": "markdown",
   "metadata": {},
   "source": [
    "a) mutable"
   ]
  },
  {
   "cell_type": "markdown",
   "metadata": {},
   "source": [
    "### 3) Programming exercises"
   ]
  },
  {
   "cell_type": "markdown",
   "metadata": {},
   "source": [
    "**1) Write a program to print the lyrics of the song “Old MacDonald.”**<br/>\n",
    "Your program should print the lyrics for five different animals, similar to the example verse below."
   ]
  },
  {
   "cell_type": "markdown",
   "metadata": {},
   "source": [
    "<center>Old MacDonald had a farm, Ee-igh, Ee-igh, Oh! <br/>\n",
    "        And on that farm he had a cow, Ee-igh, Ee-igh, Oh!<br/>\n",
    "        With a moo, moo here and a moo, moo there.<br/>\n",
    "        Here a moo, there a moo, everywhere a moo, moo.<br/>\n",
    "        Old MacDonald had a farm, Ee-igh, Ee-igh, Oh!</center>"
   ]
  },
  {
   "cell_type": "code",
   "execution_count": 1,
   "metadata": {},
   "outputs": [
    {
     "name": "stdout",
     "output_type": "stream",
     "text": [
      "Old MacDonald had a farm, Ee-igh, Ee-igh, Oh!\n",
      "And on that farm he had a cat, Ee-igh, Ee-igh, Oh!\n",
      "With a miau, miau here and a miau, miau there.\n",
      "Here a miau, there a miau, everywhere a miau, miau\n",
      "Old MacDonald had a farm, Ee-igh, Ee-igh, Oh!\n",
      "\n",
      "Old MacDonald had a farm, Ee-igh, Ee-igh, Oh!\n",
      "And on that farm he had a dog, Ee-igh, Ee-igh, Oh!\n",
      "With a guau, guau here and a guau, guau there.\n",
      "Here a guau, there a guau, everywhere a guau, guau\n",
      "Old MacDonald had a farm, Ee-igh, Ee-igh, Oh!\n",
      "\n",
      "Old MacDonald had a farm, Ee-igh, Ee-igh, Oh!\n",
      "And on that farm he had a cow, Ee-igh, Ee-igh, Oh!\n",
      "With a moo, moo here and a moo, moo there.\n",
      "Here a moo, there a moo, everywhere a moo, moo\n",
      "Old MacDonald had a farm, Ee-igh, Ee-igh, Oh!\n",
      "\n",
      "Old MacDonald had a farm, Ee-igh, Ee-igh, Oh!\n",
      "And on that farm he had a snake, Ee-igh, Ee-igh, Oh!\n",
      "With a sss, sss here and a sss, sss there.\n",
      "Here a sss, there a sss, everywhere a sss, sss\n",
      "Old MacDonald had a farm, Ee-igh, Ee-igh, Oh!\n",
      "\n",
      "Old MacDonald had a farm, Ee-igh, Ee-igh, Oh!\n",
      "And on that farm he had a lion, Ee-igh, Ee-igh, Oh!\n",
      "With a waurr, waurr here and a waurr, waurr there.\n",
      "Here a waurr, there a waurr, everywhere a waurr, waurr\n",
      "Old MacDonald had a farm, Ee-igh, Ee-igh, Oh!\n",
      "\n"
     ]
    }
   ],
   "source": [
    "animals = [\"cat\", \"dog\", 'cow', 'snake', 'lion']\n",
    "sound = ['miau', 'guau', 'moo', 'sss', 'waurr']\n",
    "for i in range(len(animals)):\n",
    "    print(\"Old MacDonald had a farm, Ee-igh, Ee-igh, Oh!\")\n",
    "    print('And on that farm he had a ' + animals[i] +', Ee-igh, Ee-igh, Oh!')\n",
    "    print('With a ' + sound[i] + ', ' + sound[i] + ' here and a ' + sound[i] + ', ' + sound[i] + ' there.')\n",
    "    print('Here a ' + sound[i] + ', there a ' + sound[i] + ', everywhere a ' + sound[i] + ', ' + sound[i])\n",
    "    print('Old MacDonald had a farm, Ee-igh, Ee-igh, Oh!')\n",
    "    print(\"\")"
   ]
  },
  {
   "cell_type": "markdown",
   "metadata": {},
   "source": [
    "**3) Write definitions for these functions:**<br/>\n",
    "- sphereArea(radius): Returns the surface area of a sphere having the given radius.<br/>\n",
    "- sphereVolume(radius): Returns the volume of a sphere having the given radius."
   ]
  },
  {
   "cell_type": "code",
   "execution_count": 1,
   "metadata": {},
   "outputs": [
    {
     "name": "stdout",
     "output_type": "stream",
     "text": [
      "Digite radio: 2\n",
      "2\n",
      "50.26548245744\n",
      "0.053051647697294944\n"
     ]
    }
   ],
   "source": [
    "pi = 3.14159265359\n",
    "\n",
    "def sphereArea(radius, pi = pi):\n",
    "    a = 4*pi*radius**2\n",
    "    return a\n",
    "\n",
    "def sphereVolume(radius, pi = pi):\n",
    "    v = 4/(3*pi*radius**3)\n",
    "    return v\n",
    "\n",
    "radio = int(input('Digite radio: '))\n",
    "\n",
    "print(radio)\n",
    "print(sphereArea(radio))\n",
    "print(sphereVolume(radio))\n"
   ]
  },
  {
   "cell_type": "markdown",
   "metadata": {},
   "source": [
    "_SphereArea funciona bien, el Volume en cambio no sale bien el resultado, este debe ser 30.51_"
   ]
  },
  {
   "cell_type": "markdown",
   "metadata": {},
   "source": [
    "**4) Write definitions for the following two functions:** <br/>\n",
    "- sumN(n): Returns the sum of the first n natural numbers. <br/>\n",
    "- sumNCubes(n): Returns the sum of the cubes of the first n natural numbers."
   ]
  },
  {
   "cell_type": "code",
   "execution_count": 2,
   "metadata": {},
   "outputs": [
    {
     "name": "stdout",
     "output_type": "stream",
     "text": [
      "Digite número: 5\n",
      "suma 15\n",
      "suma al cubo 225\n"
     ]
    }
   ],
   "source": [
    "def sumN(n):\n",
    "    suma = 0\n",
    "    for i in range(1,n+1):\n",
    "        suma = suma + i\n",
    "    return suma\n",
    "        \n",
    "def sumNCubes(n):\n",
    "    sum_cubo = 0\n",
    "    for i in range(1,n+1):\n",
    "        sum_cubo = sum_cubo + i**3\n",
    "    return sum_cubo\n",
    "        \n",
    "num = int(input('Digite número: '))\n",
    "print('suma ' + str(sumN(num)))\n",
    "print('suma al cubo ' + str(sumNCubes(num)))"
   ]
  },
  {
   "cell_type": "markdown",
   "metadata": {},
   "source": [
    "**11) Write and test a function to meet this specification:** <br/>\n",
    "- squareEach(nums): *nums* is a list of numbers. Modifies the list by squaring each entry."
   ]
  },
  {
   "cell_type": "code",
   "execution_count": 4,
   "metadata": {},
   "outputs": [
    {
     "name": "stdout",
     "output_type": "stream",
     "text": [
      "Inicial:  [4, 2, 3, 4, 9]\n",
      "Final:  [16, 4, 9, 16, 81]\n"
     ]
    }
   ],
   "source": [
    "def squareEach(nums):\n",
    "    for i in range(0, len(nums)):\n",
    "        nums[i] = nums[i]**2\n",
    "\n",
    "lista = [4,2,3,4,9]\n",
    "print('Inicial: ', lista)\n",
    "squareEach(lista)\n",
    "print('Final: ', lista)"
   ]
  },
  {
   "cell_type": "markdown",
   "metadata": {},
   "source": [
    "**12) Write and test a function to meet this specification:** <br/>\n",
    "- sumList(nums): *nums* is a list of numbers. Returns the sum of the numbers in the list."
   ]
  },
  {
   "cell_type": "code",
   "execution_count": 5,
   "metadata": {},
   "outputs": [
    {
     "name": "stdout",
     "output_type": "stream",
     "text": [
      "Lista:  [4, 2, 3, 4, 9]\n",
      "Suma:  22\n"
     ]
    }
   ],
   "source": [
    "def sumList(nums):\n",
    "    suma = 0\n",
    "    for i in range(0, len(nums)):\n",
    "        suma = suma + nums[i]\n",
    "    return suma\n",
    "\n",
    "lista = [4,2,3,4,9]\n",
    "print('Lista: ', lista)\n",
    "sumList(lista)\n",
    "print('Suma: ', sumList(lista))"
   ]
  },
  {
   "cell_type": "markdown",
   "metadata": {},
   "source": [
    "**13) Write and test a function to meet this specification:** <br/>\n",
    "- toNumbers(strList): *strList* is a list of strings, each of which represents a number. Modifies each entry in the list by converting it to a number."
   ]
  },
  {
   "cell_type": "code",
   "execution_count": 6,
   "metadata": {
    "scrolled": true
   },
   "outputs": [
    {
     "name": "stdout",
     "output_type": "stream",
     "text": [
      "Lista:  ['6', '2', '3', '4', '9']\n",
      "Lista convertida:  [6, 2, 3, 4, 9]\n"
     ]
    }
   ],
   "source": [
    "def toNumbers(strList):\n",
    "    for i in range(0, len(strList)):\n",
    "        strList[i] = int(strList[i])\n",
    "\n",
    "lista = ['6','2','3','4','9']\n",
    "print('Lista: ', lista)\n",
    "toNumbers(lista)\n",
    "print('Lista convertida: ', lista)"
   ]
  },
  {
   "cell_type": "markdown",
   "metadata": {},
   "source": [
    "# Nota final 4.78"
   ]
  }
 ],
 "metadata": {
  "anaconda-cloud": {},
  "kernelspec": {
   "display_name": "Python 3",
   "language": "python",
   "name": "python3"
  },
  "language_info": {
   "codemirror_mode": {
    "name": "ipython",
    "version": 3
   },
   "file_extension": ".py",
   "mimetype": "text/x-python",
   "name": "python",
   "nbconvert_exporter": "python",
   "pygments_lexer": "ipython3",
   "version": "3.7.1"
  }
 },
 "nbformat": 4,
 "nbformat_minor": 1
}
