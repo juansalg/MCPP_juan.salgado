{
 "cells": [
  {
   "cell_type": "code",
   "execution_count": 2,
   "metadata": {},
   "outputs": [],
   "source": [
    "# ---> Contenido oculto: Selenium/PhantomJS permite obtenerlo"
   ]
  },
  {
   "cell_type": "code",
   "execution_count": 2,
   "metadata": {},
   "outputs": [
    {
     "name": "stdout",
     "output_type": "stream",
     "text": [
      "Collecting phantomjs-binary\n",
      "  Downloading https://files.pythonhosted.org/packages/6e/56/c90c7a6f244b62da860a09e275c92631bfe55fbb048717689d8cf77bc673/phantomjs-binary-2.1.3.tar.gz (61.2MB)\n",
      "Building wheels for collected packages: phantomjs-binary\n",
      "  Building wheel for phantomjs-binary (setup.py): started\n",
      "  Building wheel for phantomjs-binary (setup.py): finished with status 'done'\n",
      "  Stored in directory: C:\\Users\\srjc2\\AppData\\Local\\pip\\Cache\\wheels\\8b\\57\\e0\\73d7a65d5d647bef6860eaae91925e8459f7517c37469afbee\n",
      "Successfully built phantomjs-binary\n",
      "Installing collected packages: phantomjs-binary\n",
      "Successfully installed phantomjs-binary-2.1.3\n",
      "Note: you may need to restart the kernel to use updated packages.\n"
     ]
    }
   ],
   "source": [
    "pip install phantomjs-binary"
   ]
  }
 ],
 "metadata": {
  "kernelspec": {
   "display_name": "Python 3",
   "language": "python",
   "name": "python3"
  },
  "language_info": {
   "codemirror_mode": {
    "name": "ipython",
    "version": 3
   },
   "file_extension": ".py",
   "mimetype": "text/x-python",
   "name": "python",
   "nbconvert_exporter": "python",
   "pygments_lexer": "ipython3",
   "version": "3.7.3"
  }
 },
 "nbformat": 4,
 "nbformat_minor": 2
}
